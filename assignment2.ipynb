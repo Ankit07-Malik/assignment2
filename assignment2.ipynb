{
 "cells": [
  {
   "cell_type": "code",
   "execution_count": 1,
   "id": "98ab400d",
   "metadata": {},
   "outputs": [
    {
     "name": "stdout",
     "output_type": "stream",
     "text": [
      "enter the number : 5\n",
      "[1, 2, 3, 4, 5]\n",
      "[5, 4, 3, 2, 1]\n"
     ]
    }
   ],
   "source": [
    "#Q1. Write a program to print all the natural numbers from 1 to n (user input). Then print the same in reverse order.\n",
    "n = int(input(\"enter the number : \"))\n",
    "a = []\n",
    "for i in range(n):\n",
    "    a.append(i+1)\n",
    "print(a)\n",
    "a.reverse()\n",
    "print(a)"
   ]
  },
  {
   "cell_type": "code",
   "execution_count": 2,
   "id": "6348f640",
   "metadata": {},
   "outputs": [
    {
     "name": "stdout",
     "output_type": "stream",
     "text": [
      "1 is odd.\n",
      "2 is even.\n",
      "\n",
      "3 is odd.\n",
      "4 is even.\n",
      "\n",
      "5 is odd.\n",
      "6 is even.\n",
      "\n",
      "7 is odd.\n",
      "8 is even.\n",
      "\n",
      "9 is odd.\n",
      "10 is even.\n",
      "\n",
      "11 is odd.\n",
      "12 is even.\n",
      "\n",
      "13 is odd.\n",
      "14 is even.\n",
      "\n",
      "15 is odd.\n",
      "16 is even.\n",
      "\n",
      "17 is odd.\n",
      "18 is even.\n",
      "\n",
      "19 is odd.\n",
      "20 is even.\n",
      "\n",
      "21 is odd.\n",
      "22 is even.\n",
      "\n",
      "23 is odd.\n",
      "24 is even.\n",
      "\n",
      "25 is odd.\n",
      "26 is even.\n",
      "\n",
      "27 is odd.\n",
      "28 is even.\n",
      "\n",
      "29 is odd.\n",
      "30 is even.\n",
      "\n",
      "31 is odd.\n",
      "32 is even.\n",
      "\n",
      "33 is odd.\n",
      "34 is even.\n",
      "\n",
      "35 is odd.\n",
      "36 is even.\n",
      "\n",
      "37 is odd.\n",
      "38 is even.\n",
      "\n",
      "39 is odd.\n",
      "40 is even.\n",
      "\n",
      "41 is odd.\n",
      "42 is even.\n",
      "\n",
      "43 is odd.\n",
      "44 is even.\n",
      "\n",
      "45 is odd.\n",
      "46 is even.\n",
      "\n",
      "47 is odd.\n",
      "48 is even.\n",
      "\n",
      "49 is odd.\n",
      "50 is even.\n",
      "\n",
      "51 is odd.\n",
      "52 is even.\n",
      "\n",
      "53 is odd.\n",
      "54 is even.\n",
      "\n",
      "55 is odd.\n",
      "56 is even.\n",
      "\n",
      "57 is odd.\n",
      "58 is even.\n",
      "\n",
      "59 is odd.\n",
      "60 is even.\n",
      "\n",
      "61 is odd.\n",
      "62 is even.\n",
      "\n",
      "63 is odd.\n",
      "64 is even.\n",
      "\n",
      "65 is odd.\n",
      "66 is even.\n",
      "\n",
      "67 is odd.\n",
      "68 is even.\n",
      "\n",
      "69 is odd.\n",
      "70 is even.\n",
      "\n",
      "71 is odd.\n",
      "72 is even.\n",
      "\n",
      "73 is odd.\n",
      "74 is even.\n",
      "\n",
      "75 is odd.\n",
      "76 is even.\n",
      "\n",
      "77 is odd.\n",
      "78 is even.\n",
      "\n",
      "79 is odd.\n",
      "80 is even.\n",
      "\n",
      "81 is odd.\n",
      "82 is even.\n",
      "\n",
      "83 is odd.\n",
      "84 is even.\n",
      "\n",
      "85 is odd.\n",
      "86 is even.\n",
      "\n",
      "87 is odd.\n",
      "88 is even.\n",
      "\n",
      "89 is odd.\n",
      "90 is even.\n",
      "\n",
      "91 is odd.\n",
      "92 is even.\n",
      "\n",
      "93 is odd.\n",
      "94 is even.\n",
      "\n",
      "95 is odd.\n",
      "96 is even.\n",
      "\n",
      "97 is odd.\n",
      "98 is even.\n",
      "\n",
      "99 is odd.\n",
      "100 is even.\n",
      "\n"
     ]
    }
   ],
   "source": [
    "#Q2. Print all odd numbers and even numbers between 1 to 100.\n",
    "n = 1 \n",
    "while(n<=100): \n",
    "        if(n%2==0): \n",
    "            print (n, \"is even.\")\n",
    "            print(end = \"\\n\")\n",
    "        else:\n",
    "             print (n, \"is odd.\") \n",
    "        n=n+1"
   ]
  },
  {
   "cell_type": "code",
   "execution_count": 4,
   "id": "47ff8540",
   "metadata": {},
   "outputs": [
    {
     "name": "stdout",
     "output_type": "stream",
     "text": [
      "enter the numner:7\n",
      "number is prime, TRUE\n",
      "number is prime, TRUE\n"
     ]
    }
   ],
   "source": [
    " #Q3.Write a program to check if a number is prime or not.\n",
    "n=int(input(\"enter the numner:\"))\n",
    "if n>1 :\n",
    "    for i in range(2, int(n/2)+1):\n",
    "        if (n%i) == 0 :\n",
    "            print(\"number is not prime, FALSE\")\n",
    "            break\n",
    "        else :\n",
    "            print(\"number is prime, TRUE\")\n",
    "        "
   ]
  },
  {
   "cell_type": "code",
   "execution_count": 7,
   "id": "7ba8175a",
   "metadata": {},
   "outputs": [
    {
     "name": "stdout",
     "output_type": "stream",
     "text": [
      "enter 😊the number:10\n",
      "33\n"
     ]
    }
   ],
   "source": [
    "#Q4. Write a program that asks the user for a number n and prints the sum of the numbers 1 to n such that only multiples of three or five are considered in the sum,\n",
    "#e.g. 3, 5, 6, 9, 10, 12, 15 for n=17.\n",
    "#Q4. Write a program that asks the user for a number n and prints the sum of the numbers 1 to n such that only multiples of three or five are considered in the sum, e.g. 3, 5, 6, 9, 10, 12, 15 for n=\n",
    "a=1\n",
    "sum=0\n",
    "n=int(input(\"enter 😊the number:\"))\n",
    "for i in range (a,n+1):\n",
    "    if(i%3==0 or i%5==0):\n",
    "        sum=sum+i\n",
    "print(sum)"
   ]
  },
  {
   "cell_type": "code",
   "execution_count": 9,
   "id": "f68d938e",
   "metadata": {},
   "outputs": [
    {
     "name": "stdout",
     "output_type": "stream",
     "text": [
      "enter the number😊:10\n",
      "product or sum😍:+\n",
      "45\n"
     ]
    }
   ],
   "source": [
    "#5. Write a program that asks the user for a number n and gives them the possibility to choose between computing the sum and \n",
    "#computing the product of 1,…,n.\n",
    "\n",
    "n=int(input(\"enter the number😊:\"))\n",
    "c=input(\"product or sum😍:\")\n",
    "p=1\n",
    "s=0\n",
    "if(c==\"product\"):\n",
    "    for i in range(1,n):\n",
    "        p=p*i;\n",
    "    print(p)\n",
    "else:\n",
    "    for i in range(1,n):\n",
    "        s=s+i;\n",
    "    print(s)"
   ]
  },
  {
   "cell_type": "code",
   "execution_count": 10,
   "id": "93069faf",
   "metadata": {},
   "outputs": [
    {
     "name": "stdout",
     "output_type": "stream",
     "text": [
      "sum= 234168\n"
     ]
    }
   ],
   "source": [
    "#6. Find the sum of all the multiples of 3 or 5 below 1000.\n",
    "a=1\n",
    "sum=0\n",
    "for i in range (a,1001):\n",
    "    if(i%3==0 or i%5==0):\n",
    "        sum=sum+i\n",
    "print(\"sum=\",sum)"
   ]
  },
  {
   "cell_type": "code",
   "execution_count": 11,
   "id": "12cb37e6",
   "metadata": {},
   "outputs": [
    {
     "name": "stdout",
     "output_type": "stream",
     "text": [
      "2002 2009 2016 2023 2037 2044 2051 2058 2072 2079 2086 2093 2107 2114 2121 2128 2142 2149 2156 2163 2177 2184 2191 2198 2212 2219 2226 2233 2247 2254 2261 2268 2282 2289 2296 2303 2317 2324 2331 2338 2352 2359 2366 2373 2387 2394 2401 2408 2422 2429 2436 2443 2457 2464 2471 2478 2492 2499 2506 2513 2527 2534 2541 2548 2562 2569 2576 2583 2597 2604 2611 2618 2632 2639 2646 2653 2667 2674 2681 2688 2702 2709 2716 2723 2737 2744 2751 2758 2772 2779 2786 2793 2807 2814 2821 2828 2842 2849 2856 2863 2877 2884 2891 2898 2912 2919 2926 2933 2947 2954 2961 2968 2982 2989 2996 3003 3017 3024 3031 3038 3052 3059 3066 3073 3087 3094 3101 3108 3122 3129 3136 3143 3157 3164 3171 3178 3192 3199 "
     ]
    }
   ],
   "source": [
    "#7.Write a program which will find all such numbers which are divisible by 7 but are not a multiple of 5, between 2000 and 3200 (both included).\n",
    "\n",
    "for i in range (2000,3201):\n",
    "    sum=sum+i\n",
    "    if(i%7==0 and i%5!=0):\n",
    "        print(i,end=\" \")"
   ]
  },
  {
   "cell_type": "code",
   "execution_count": 12,
   "id": "4d853544",
   "metadata": {},
   "outputs": [
    {
     "name": "stdout",
     "output_type": "stream",
     "text": [
      "-25164150\n"
     ]
    }
   ],
   "source": [
    "#8. Find the difference between the sum of the squares of the first one hundred natural numbers and the square of the sum\n",
    "a=0\n",
    "b=0\n",
    "for i in range(1,101):\n",
    "    a=a+i**2;\n",
    "for i in range(1,101):\n",
    "    b=b+i;\n",
    "print(a-b**2)"
   ]
  },
  {
   "cell_type": "code",
   "execution_count": 14,
   "id": "e04f9145",
   "metadata": {},
   "outputs": [
    {
     "name": "stdout",
     "output_type": "stream",
     "text": [
      "enter the number:5\n",
      "The factorial of 5 is 120\n"
     ]
    }
   ],
   "source": [
    "#9. Write a program which can compute the factorial of a given number.\n",
    "num=int(input(\"enter the number:\"))\n",
    "factorial=1\n",
    "for i in range(1,num + 1):\n",
    "       factorial = factorial*i\n",
    "print(\"The factorial of\",num,\"is\",factorial)"
   ]
  },
  {
   "cell_type": "code",
   "execution_count": 15,
   "id": "8f3ff39d",
   "metadata": {},
   "outputs": [
    {
     "name": "stdout",
     "output_type": "stream",
     "text": [
      "enter the number:5\n",
      "\n",
      "1\n",
      "22\n",
      "333\n",
      "4444\n",
      "55555\n"
     ]
    }
   ],
   "source": [
    "#10.1.\n",
    "n=int(input(\"enter the number:\"))\n",
    "for i in range (n+1):\n",
    "    for j in range (i):\n",
    "        print(i,end='')\n",
    "    print('')"
   ]
  },
  {
   "cell_type": "code",
   "execution_count": 16,
   "id": "26780f1c",
   "metadata": {},
   "outputs": [
    {
     "name": "stdout",
     "output_type": "stream",
     "text": [
      "enter the number:5\n",
      "55555\n",
      "54445\n",
      "54345\n",
      "54445\n",
      "55555\n"
     ]
    }
   ],
   "source": [
    "#10.2. Pattern:\n",
    "n=int(input(\"enter the number:\"))\n",
    "for i in range(n):\n",
    "    for j in range(n):\n",
    "        print(max(i+1,j+1,n-i,n-j),end='')\n",
    "    print()   "
   ]
  },
  {
   "cell_type": "code",
   "execution_count": 17,
   "id": "389bce39",
   "metadata": {},
   "outputs": [
    {
     "name": "stdout",
     "output_type": "stream",
     "text": [
      "enter the number:5\n",
      "*\n",
      "**\n",
      "***\n",
      "****\n",
      "*****\n"
     ]
    }
   ],
   "source": [
    "#10.3.\n",
    "n=int(input(\"enter the number:\"))\n",
    "for i in range(0,n):\n",
    "    for j in range(0,i+1):\n",
    "        print('*', end='')\n",
    "    print('\\r')"
   ]
  },
  {
   "cell_type": "code",
   "execution_count": 18,
   "id": "f50b436a",
   "metadata": {},
   "outputs": [
    {
     "name": "stdout",
     "output_type": "stream",
     "text": [
      "Enter the number:5\n",
      "*****\n",
      "****\n",
      "***\n",
      "**\n",
      "*\n",
      "\n"
     ]
    }
   ],
   "source": [
    "#10.4.\n",
    "n=int(input(\"Enter the number:\"))\n",
    "for i in range (n+1,0,-1):\n",
    "    for j in range (0,i-1):\n",
    "        print(\"*\",end='')\n",
    "    print('')"
   ]
  },
  {
   "cell_type": "code",
   "execution_count": 19,
   "id": "25bc9c82",
   "metadata": {},
   "outputs": [
    {
     "name": "stdout",
     "output_type": "stream",
     "text": [
      "enter the number:5\n",
      "#####\n",
      "#####\n",
      "#####\n",
      "#####\n",
      "#####\n"
     ]
    }
   ],
   "source": [
    "#10.5.\n",
    "n=int(input(\"enter the number:\"))\n",
    "for i in range(n):\n",
    "    for j in range(n):\n",
    "        print('#',end='')\n",
    "    print()"
   ]
  },
  {
   "cell_type": "code",
   "execution_count": 20,
   "id": "7d6cb4d7",
   "metadata": {},
   "outputs": [
    {
     "name": "stdout",
     "output_type": "stream",
     "text": [
      "Enter the number:4\n",
      "4936\n"
     ]
    }
   ],
   "source": [
    "#11. Write a program that computes the value of a+aa+aaa+aaaa with a given digit as the value of a.\n",
    "#Suppose the following input is supplied to the program:9, Then, the output should be: 9 + 99 + 999 + 9999 =  11106.\n",
    "a = int(input(\"Enter the number:\"))\n",
    "n1 = int( \"%s\" % a )\n",
    "n2 = int( \"%s%s\" % (a,a) )\n",
    "n3 = int( \"%s%s%s\" % (a,a,a) )\n",
    "n4 = int( \"%s%s%s%s\" % (a,a,a,a) )\n",
    "print(n1+n2+n3+n4)"
   ]
  },
  {
   "cell_type": "code",
   "execution_count": 21,
   "id": "43e9a07b",
   "metadata": {},
   "outputs": [
    {
     "name": "stdout",
     "output_type": "stream",
     "text": [
      "enter the string:ankit\n",
      "length of the string:5\n"
     ]
    }
   ],
   "source": [
    "#12. Find the length of a string using loops (not len()).\n",
    "input_str= str(input(\"enter the string:\"))\n",
    "count=0\n",
    "for i in input_str:\n",
    "    count=count+1\n",
    "print(\"length of the string:\",end='')\n",
    "print(count)\n",
    " "
   ]
  },
  {
   "cell_type": "code",
   "execution_count": 22,
   "id": "566c5941",
   "metadata": {},
   "outputs": [
    {
     "name": "stdout",
     "output_type": "stream",
     "text": [
      "enter the sentence:ankit007\n",
      "digit: 3\n",
      "letter: 5\n"
     ]
    }
   ],
   "source": [
    "#13. Write a program that accepts a sentence (string) and calculate the number of letters and digits. Example: ‘this is a test sentence number 389’ ==> letters = 25 and digits = 3.\n",
    "str = input(\"enter the sentence:\")\n",
    "letter=digit=0\n",
    "for ch in str:\n",
    "    if ch.isdigit():\n",
    "        digit=digit+1\n",
    "    elif ch.isalpha():\n",
    "        letter=letter+1\n",
    "    else:\n",
    "        pass\n",
    "print(\"digit:\",digit)\n",
    "print(\"letter:\",letter)"
   ]
  },
  {
   "cell_type": "code",
   "execution_count": 23,
   "id": "1c74e8b9",
   "metadata": {},
   "outputs": [
    {
     "name": "stdout",
     "output_type": "stream",
     "text": [
      " Enter your Own String : ankit\n",
      "\n",
      "Original String in Lowercase  =   ankit\n",
      "The Given String in Uppercase =   ANKIT\n"
     ]
    }
   ],
   "source": [
    "#14.  Write a program that accepts a string and outputs the string with all capital letters.\n",
    "#Example: ‘hello’ ==> ‘HELLO’. (using loop)\n",
    "string = input(\" Enter your Own String : \")\n",
    "string1 = ''\n",
    "\n",
    "for i in range(len(string)):\n",
    "    if(string[i] >= 'a' and string[i] <= 'z'):\n",
    "        string1 = string1 + chr((ord(string[i]) - 32))\n",
    "    else:\n",
    "        string1 = string1 + string[i]\n",
    "print(\"\\nOriginal String in Lowercase  =  \", string)\n",
    "print(\"The Given String in Uppercase =  \", string1)"
   ]
  },
  {
   "cell_type": "code",
   "execution_count": 27,
   "id": "21968b9e",
   "metadata": {},
   "outputs": [
    {
     "name": "stdout",
     "output_type": "stream",
     "text": [
      "enter the sentence:ANKITmalik\n",
      "Upper: 5\n",
      "Lower: 5\n"
     ]
    }
   ],
   "source": [
    "#15. Write a program that accepts a sentence and calculate the number of upper case letters and lower case letters.\n",
    "s=input(\"enter the sentence:\")\n",
    "upper=lower=0\n",
    "for ch in s:\n",
    "    if ch.isupper():\n",
    "        upper=upper+1\n",
    "    elif ch.islower():\n",
    "        lower=lower+1\n",
    "    else:\n",
    "        pass\n",
    "print(\"Upper:\", upper)\n",
    "print(\"Lower:\", lower)"
   ]
  },
  {
   "cell_type": "code",
   "execution_count": 28,
   "id": "bb85b495",
   "metadata": {},
   "outputs": [
    {
     "name": "stdout",
     "output_type": "stream",
     "text": [
      "Enter the string:ankitmalik\n",
      "Entr the character:a\n",
      "2\n"
     ]
    }
   ],
   "source": [
    "#16. Write  a program that counts the occurrence of a character in a string.\n",
    "#Example: ‘This is a test string.’ count of i = 3.\n",
    "str= input(\"Enter the string:\")\n",
    "c= input(\"Entr the character:\")\n",
    "res=0\n",
    "for i in range(len(str)) :\n",
    "    if(str[i]==c):\n",
    "        res+=1\n",
    "print(res)    \n",
    "    "
   ]
  },
  {
   "cell_type": "code",
   "execution_count": 29,
   "id": "312ef86a",
   "metadata": {},
   "outputs": [
    {
     "name": "stdout",
     "output_type": "stream",
     "text": [
      "Enter the string:malayalam\n",
      "is a palindrome\n"
     ]
    }
   ],
   "source": [
    "#17. Write a program to find if a given string is a palindrome or not.\n",
    "s= input(\"Enter the string:\")\n",
    "if s == s[::-1]:\n",
    "    print(\"is a palindrome\")\n",
    "else:\n",
    "    print(\"is not a palindrome\")"
   ]
  },
  {
   "cell_type": "code",
   "execution_count": 30,
   "id": "b8f7dbf7",
   "metadata": {},
   "outputs": [
    {
     "name": "stdout",
     "output_type": "stream",
     "text": [
      "Enter string:ankitkumarmalik\n",
      "Enter word:ankit\n",
      "Substring in string!\n"
     ]
    }
   ],
   "source": [
    "#18. Write a program which accepts two strings s1 and s2 and checks if s2 is a substring of s1.\n",
    "string=input(\"Enter string:\")\n",
    "sub_str=input(\"Enter word:\")\n",
    "if(string.find(sub_str)==-1):\n",
    "      print(\"Substring not found in string!\")\n",
    "else:\n",
    "      print(\"Substring in string!\")"
   ]
  },
  {
   "cell_type": "code",
   "execution_count": 31,
   "id": "c1ca690f",
   "metadata": {},
   "outputs": [
    {
     "name": "stdout",
     "output_type": "stream",
     "text": [
      "Enter a password: ankit007\n",
      "Your password seems fine\n"
     ]
    }
   ],
   "source": [
    "#19.Make a password validator with the following checks. \n",
    "#A website requires the users to input username and password to register. \n",
    "#Write a program to check the validity of password input by users.\n",
    "import re\n",
    "password = input(\"Enter a password: \")\n",
    "if len(password) < 8:\n",
    "    print(\"Make sure your password is at lest 8 letters\")\n",
    "elif re.search('[0-9]',password) is None:\n",
    "    print(\"Make sure your password has a number in it\")\n",
    "elif re.search('[a-z]',password) is None: \n",
    "    print(\"Make sure your password has a capital letter in it\")\n",
    "else:\n",
    "    print(\"Your password seems fine\")"
   ]
  },
  {
   "cell_type": "code",
   "execution_count": 32,
   "id": "7d34e12a",
   "metadata": {},
   "outputs": [
    {
     "name": "stdout",
     "output_type": "stream",
     "text": [
      "Type a sentence: ankitkumarmalik\n",
      "aiuaai\n"
     ]
    }
   ],
   "source": [
    "#20. s = \"Hello how are you all\". For this given string write a code such that it prints the vowels present in the string s \n",
    "# if any.  ex: \"i\", \"a\" etc.\n",
    "vowels = ['a', 'e', 'i', 'o', 'u']\n",
    "characters_input = input('Type a sentence: ')\n",
    "input_list = list(characters_input)\n",
    "vowels_list = []\n",
    "for x in input_list:\n",
    "    if x.lower() in vowels:\n",
    "        vowels_list.append(x)\n",
    "vowels_string = ''.join(vowels_list)\n",
    "print(vowels_string)"
   ]
  },
  {
   "cell_type": "code",
   "execution_count": null,
   "id": "63c799e3",
   "metadata": {},
   "outputs": [],
   "source": []
  }
 ],
 "metadata": {
  "kernelspec": {
   "display_name": "Python 3",
   "language": "python",
   "name": "python3"
  },
  "language_info": {
   "codemirror_mode": {
    "name": "ipython",
    "version": 3
   },
   "file_extension": ".py",
   "mimetype": "text/x-python",
   "name": "python",
   "nbconvert_exporter": "python",
   "pygments_lexer": "ipython3",
   "version": "3.9.5"
  }
 },
 "nbformat": 4,
 "nbformat_minor": 5
}
